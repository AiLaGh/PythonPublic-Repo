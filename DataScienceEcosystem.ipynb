{
 "cells": [
  {
   "cell_type": "markdown",
   "id": "e01f8bc8-4c8a-4900-8f0b-fefddba7ed14",
   "metadata": {
    "tags": []
   },
   "source": [
    "# Data Science Tools and Ecosystem"
   ]
  },
  {
   "cell_type": "markdown",
   "id": "b4ffe367-7e02-4f9b-ae1e-47bf36a5b838",
   "metadata": {},
   "source": [
    "##### In this notebook, Data Science Tools and Ecosystem are summarized."
   ]
  },
  {
   "cell_type": "markdown",
   "id": "40eba6f7-4625-4120-99e8-86e3e6a35b9f",
   "metadata": {},
   "source": [
    "### **Objectives:**\n",
    "+ Languajes of Data Science\n",
    "+ Libraries, APIs, Datasets and Models\n",
    "+ Jupyter\n",
    "+ Rstudio and GitHub"
   ]
  },
  {
   "cell_type": "markdown",
   "id": "4df024d8-d2c9-4ef7-b767-bc2f1c6a4c86",
   "metadata": {},
   "source": [
    "## Some of the popular languages that Data Scientists use are:\n",
    "1. Python\n",
    "2. R\n",
    "3. Scala\n",
    "4. Java\n",
    "5. Julia\n",
    "6. SQL\n"
   ]
  },
  {
   "cell_type": "markdown",
   "id": "1ad67f93-1b50-4763-9eeb-deadaf7d2e2f",
   "metadata": {},
   "source": [
    "## Some of the commonly used libraries used by Data Scientists include:\n",
    "1. Pandas\n",
    "2. NumPy\n",
    "3. Matplotlib\n",
    "4. Seaborn\n",
    "5. Scikit-Learn\n",
    "6. Keras\n",
    "7. Vegas\n",
    "8. BigDL\n",
    "9. Ggplot2"
   ]
  },
  {
   "cell_type": "markdown",
   "id": "83c8dab5-645b-490d-83cc-12b84ed9ed2b",
   "metadata": {},
   "source": [
    "\n",
    "| Data Science Tools |\n",
    "| ------------- |\n",
    "| MySQL |\n",
    "| IBM Watson Studio |\n",
    "| GitHub |\n",
    "\n"
   ]
  },
  {
   "cell_type": "markdown",
   "id": "3c8b535b-8eb9-4bc8-a414-5bbab05104b2",
   "metadata": {},
   "source": [
    "### Below are a few examples of evaluating arithmetic expressions in Python."
   ]
  },
  {
   "cell_type": "code",
   "execution_count": 1,
   "id": "cace58e0-b489-4fc4-a272-c806f922105c",
   "metadata": {
    "tags": []
   },
   "outputs": [
    {
     "data": {
      "text/plain": [
       "17"
      ]
     },
     "execution_count": 1,
     "metadata": {},
     "output_type": "execute_result"
    }
   ],
   "source": [
    "# This is a simple arithmetic expression to multiply then add integers.\n",
    "\n",
    "(3 * 4) + 5"
   ]
  },
  {
   "cell_type": "code",
   "execution_count": 2,
   "id": "86837bc8-3811-4a55-92b2-0afd5d86499c",
   "metadata": {
    "tags": []
   },
   "outputs": [
    {
     "data": {
      "text/plain": [
       "3.3333333333333335"
      ]
     },
     "execution_count": 2,
     "metadata": {},
     "output_type": "execute_result"
    }
   ],
   "source": [
    "# This will convert 200 minutes to hours by diving by 60.\n",
    "200 / 60"
   ]
  },
  {
   "cell_type": "markdown",
   "id": "400be685-9ec5-4e57-9377-763776bd71fd",
   "metadata": {},
   "source": [
    "## Author: \n",
    "#### Ana Isabel Losada Álvarez"
   ]
  }
 ],
 "metadata": {
  "kernelspec": {
   "display_name": "Python",
   "language": "python",
   "name": "conda-env-python-py"
  },
  "language_info": {
   "codemirror_mode": {
    "name": "ipython",
    "version": 3
   },
   "file_extension": ".py",
   "mimetype": "text/x-python",
   "name": "python",
   "nbconvert_exporter": "python",
   "pygments_lexer": "ipython3",
   "version": "3.7.12"
  }
 },
 "nbformat": 4,
 "nbformat_minor": 5
}
